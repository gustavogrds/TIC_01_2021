{
  "nbformat": 4,
  "nbformat_minor": 0,
  "metadata": {
    "anaconda-cloud": {},
    "kernelspec": {
      "display_name": "Python 3",
      "language": "python",
      "name": "python3"
    },
    "language_info": {
      "codemirror_mode": {
        "name": "ipython",
        "version": 3
      },
      "file_extension": ".py",
      "mimetype": "text/x-python",
      "name": "python",
      "nbconvert_exporter": "python",
      "pygments_lexer": "ipython3",
      "version": "3.7.4"
    },
    "colab": {
      "provenance": [],
      "include_colab_link": true
    }
  },
  "cells": [
    {
      "cell_type": "markdown",
      "metadata": {
        "id": "view-in-github",
        "colab_type": "text"
      },
      "source": [
        "<a href=\"https://colab.research.google.com/github/gustavogrds/TIC_01_2023/blob/main/Redes_Neurais_2023.ipynb\" target=\"_parent\"><img src=\"https://colab.research.google.com/assets/colab-badge.svg\" alt=\"Open In Colab\"/></a>"
      ]
    },
    {
      "cell_type": "markdown",
      "metadata": {
        "id": "gglUriLmo1sR"
      },
      "source": [
        "<head>\n",
        "  <meta name=\"author\" content=\"Rogério de Oliveira\">\n",
        "  <meta institution=\"author\" content=\"Universidade Presbiteriana Mackenzie\">\n",
        "</head>\n",
        "\n",
        "<img src=\"http://meusite.mackenzie.br/rogerio/mackenzie_logo/UPM.2_horizontal_vermelho.jpg\" width=300, align=\"right\"></a>\n",
        "<!-- <h1 align=left><font size = 6, style=\"color:rgb(200,0,0)\"> optional title </font></h1> -->"
      ]
    },
    {
      "cell_type": "markdown",
      "metadata": {
        "id": "-G7aCMh4r9y1"
      },
      "source": [
        "<h1 align=left><font size = 6, style=\"color:rgb(200,0,0)\">Redes Neurais</font></h1>\n",
        "<hr>"
      ]
    },
    {
      "cell_type": "code",
      "source": [
        "# imports\n",
        "import numpy as np \n",
        "import pandas as pd \n",
        "import matplotlib.pyplot as plt \n",
        "import seaborn as sns \n",
        "import warnings\n",
        "warnings.filterwarnings(\"ignore\")"
      ],
      "metadata": {
        "id": "wQUAd-PP6KmZ"
      },
      "execution_count": null,
      "outputs": []
    },
    {
      "cell_type": "markdown",
      "source": [
        "# Neurônio simples\n",
        "\n",
        "Um neurônio simples é a **unidade básica de processamento** em uma rede neural artificial. Ele é inspirado no neurônio biológico encontrado no cérebro humano e consiste em uma ou mais entradas que são somadas ponderadamente, seguidas de uma função de ativação que produz uma saída. "
      ],
      "metadata": {
        "id": "59iRYiIUQhuF"
      }
    },
    {
      "cell_type": "markdown",
      "source": [
        "<img src=\"http://www.orlandoalbarracin.com.br/phyton/neuronio.png\" width=550, align=\"left\">\n",
        "<!-- <h1 align=left><font size = 6, style=\"color:rgb(200,0,0)\"> optional title </font></h1> -->"
      ],
      "metadata": {
        "id": "Ypa4-nakSahG"
      }
    },
    {
      "cell_type": "markdown",
      "source": [
        "As funções de ativação, $\\varphi ()$, são aplicadas em redes neurais para determinar a saída de um neurônio. Sejam $x_1,...,x_n$ os valores de entrada e $w_1,...., w_n$ os pesos, então,\n",
        "\n",
        "$$ f(X) = \\varphi(w_1 x_1 + ... + w_n x_n ) $$.\n",
        "\n",
        "Os pesos $w_i$ são determinados de tal forma que o erro de predição (valor observado - valor previsto pelo modelo) seja minimizado.\n",
        "\n",
        "Algumas das funções de ativação mais comuns são:\n",
        "\n",
        "*   Função Sigmoide: mapeia um número para um valor entre 0 e 1, permitindo a saída de valores de probabilidade.\n",
        "*   Função Tanh: mapeia um número para um valor entre -1 e 1.\n",
        "*   Função Softmax: é usada em problemas de classificação e normaliza as saídas para que a soma das saídas seja igual a 1."
      ],
      "metadata": {
        "id": "nyolhiNZSwId"
      }
    },
    {
      "cell_type": "markdown",
      "source": [
        "A função sigmoid é definida:\n",
        "\n",
        "$$f(x) = \\dfrac{1}{1 + e^{-x}}$$\n",
        "\n",
        "em que x é a entrada e f(x) é a saída. A sigmoid é diferenciável em todos os pontos, o que a torna útil para treinamento de redes neurais usando algoritmos de otimização baseados em gradiente."
      ],
      "metadata": {
        "id": "0z2oCrnwSx3y"
      }
    },
    {
      "cell_type": "markdown",
      "source": [
        "## Limitações\n",
        "\n",
        "*   Dificuldade em lidar com dados não lineares: Modelam relações lineares entre as variáveis de entrada e saída.\n",
        "\n",
        "*   Dificuldade em lidar com problemas complexos: Os neurônios simples são adequados apenas para problemas simples.\n",
        "\n",
        "*   Tendência ao overfitting: Os neurônios simples são propensos a overfitting. Isso ocorre quando a rede é ajustada demais aos dados de treinamento e não generaliza bem para novos dados."
      ],
      "metadata": {
        "id": "RaF_lhKnpizZ"
      }
    },
    {
      "cell_type": "markdown",
      "source": [
        "Assim, um único neurônio somente tem capacidade para fazer a separação de conjuntos linearmente separáveis. Para resolver essa limitação podemos então trabalhar com múltiplos neurônios em camadas. \n",
        "\n",
        "As saídas dos neurônios de uma camada são então empregadas como entradas para a seguinte camada. \n",
        "\n",
        "Os neurônios que estão entre a camada de entrada e a camada de saída é chamado de Camadas ocultas **(hidden layers)**. Essas camadas são chamadas de \"ocultas\" porque não se comunicam diretamente com o usuário. O objetivo delas é transformar os dados de entrada em um formato mais útil para o aprendizado da rede."
      ],
      "metadata": {
        "id": "dCMS3NL528GC"
      }
    },
    {
      "cell_type": "markdown",
      "source": [
        "<img src=\"http://www.orlandoalbarracin.com.br/phyton/neuronio2.png\" width=550, align=\"left\">\n",
        "<!-- <h1 align=left><font size = 6, style=\"color:rgb(200,0,0)\"> optional title </font></h1> -->"
      ],
      "metadata": {
        "id": "dsaFvDwMqmKn"
      }
    },
    {
      "cell_type": "markdown",
      "source": [
        "Cada camada oculta tem um conjunto de pesos que são ajustados durante o processo de treinamento para minimizar o erro da rede. A adição de camadas ocultas aumenta a capacidade da rede neural de capturar relações complexas entre as variáveis de entrada e saída\n",
        "\n",
        "\n",
        "O treinamento da rede segue o mesmo princípio, embora mais complexo, ajustando os pesos $w_n$ de acordo com o erro de predição obtido para se estimar a saída $y$. Chamamos esse aprendizado de *backpropagation* ou *retropropagação*.\n",
        "\n",
        "Acesse agora http://playground.tensorflow.org/ para uma demonstração."
      ],
      "metadata": {
        "id": "9V2L6KeP3FhV"
      }
    },
    {
      "cell_type": "markdown",
      "source": [
        "Esse [artigo](http://meusite.mackenzie.br/rogerio/ML/The-InfoQ-eMag-Introduction-to-Machine-Learning.pdf) trás uma ótima introdução ao Aprendizado de Máquina. Nele há uma aplicação de dois modelos de classificação,**Árvores de Decisão e Regressão Logística**, para um conjunto de dado simples para detecção de fraude em operações de cartões de crédito. "
      ],
      "metadata": {
        "id": "ZKpUr9465hVm"
      }
    },
    {
      "cell_type": "markdown",
      "metadata": {
        "id": "Li1FPlObIQAh"
      },
      "source": [
        "# **Case**: Detecção de Fraude em Operações de Cartão de Crédito\n",
        "\n",
        "\n"
      ]
    },
    {
      "cell_type": "markdown",
      "source": [
        "\n",
        "Aqui você vamos empregar o conjunto de dados:\n",
        "\n",
        "URL: https://meusite.mackenzie.br/rogerio/ML/qconlondon2016_sample_data.csv\n",
        "\n",
        "Vamos usar a biblioteca `Keras` para usar redes neurais. A aplicação consiste em treinar o modelo para identificar se uma operação é um fraude ou não.\n",
        "\n",
        "**IMPORTANTE** \n",
        "O uso de deeplearning pode ser bastante complexo e exigiria um bom tempo para estarmos aptos a empregar suas funções em diferentes problemas. Entenda esse exemplo como uma *degustação* do deep learning apenas para que você possa fixar os conceitos dessa técnica."
      ],
      "metadata": {
        "id": "6II-2rXh5LC9"
      }
    },
    {
      "cell_type": "markdown",
      "metadata": {
        "id": "yjsISOzrZzPg"
      },
      "source": [
        "### Explorando os dados\n"
      ]
    },
    {
      "cell_type": "code",
      "metadata": {
        "id": "SIeEbP1HZxop",
        "colab": {
          "base_uri": "https://localhost:8080/",
          "height": 206
        },
        "outputId": "ec260234-6ce9-49d9-f2cc-f99d86d397f0"
      },
      "source": [
        "fraud = pd.read_csv(\"https://meusite.mackenzie.br/rogerio/ML/qconlondon2016_sample_data.csv\")\n",
        "fraud.drop(columns=['charge_time'],inplace=True) # por simplicidade excluímos esse dado do treinamento\n",
        "                     \n",
        "fraud.head()"
      ],
      "execution_count": null,
      "outputs": [
        {
          "output_type": "execute_result",
          "data": {
            "text/plain": [
              "   fraudulent  amount card_country  card_use_24h\n",
              "0       False   20484           US             0\n",
              "1       False    1211           US             0\n",
              "2       False    8396           US             1\n",
              "3       False    2359           US             0\n",
              "4       False    1480           US             3"
            ],
            "text/html": [
              "\n",
              "  <div id=\"df-f89e8c62-86fe-4f04-8946-10f7c44876f4\">\n",
              "    <div class=\"colab-df-container\">\n",
              "      <div>\n",
              "<style scoped>\n",
              "    .dataframe tbody tr th:only-of-type {\n",
              "        vertical-align: middle;\n",
              "    }\n",
              "\n",
              "    .dataframe tbody tr th {\n",
              "        vertical-align: top;\n",
              "    }\n",
              "\n",
              "    .dataframe thead th {\n",
              "        text-align: right;\n",
              "    }\n",
              "</style>\n",
              "<table border=\"1\" class=\"dataframe\">\n",
              "  <thead>\n",
              "    <tr style=\"text-align: right;\">\n",
              "      <th></th>\n",
              "      <th>fraudulent</th>\n",
              "      <th>amount</th>\n",
              "      <th>card_country</th>\n",
              "      <th>card_use_24h</th>\n",
              "    </tr>\n",
              "  </thead>\n",
              "  <tbody>\n",
              "    <tr>\n",
              "      <th>0</th>\n",
              "      <td>False</td>\n",
              "      <td>20484</td>\n",
              "      <td>US</td>\n",
              "      <td>0</td>\n",
              "    </tr>\n",
              "    <tr>\n",
              "      <th>1</th>\n",
              "      <td>False</td>\n",
              "      <td>1211</td>\n",
              "      <td>US</td>\n",
              "      <td>0</td>\n",
              "    </tr>\n",
              "    <tr>\n",
              "      <th>2</th>\n",
              "      <td>False</td>\n",
              "      <td>8396</td>\n",
              "      <td>US</td>\n",
              "      <td>1</td>\n",
              "    </tr>\n",
              "    <tr>\n",
              "      <th>3</th>\n",
              "      <td>False</td>\n",
              "      <td>2359</td>\n",
              "      <td>US</td>\n",
              "      <td>0</td>\n",
              "    </tr>\n",
              "    <tr>\n",
              "      <th>4</th>\n",
              "      <td>False</td>\n",
              "      <td>1480</td>\n",
              "      <td>US</td>\n",
              "      <td>3</td>\n",
              "    </tr>\n",
              "  </tbody>\n",
              "</table>\n",
              "</div>\n",
              "      <button class=\"colab-df-convert\" onclick=\"convertToInteractive('df-f89e8c62-86fe-4f04-8946-10f7c44876f4')\"\n",
              "              title=\"Convert this dataframe to an interactive table.\"\n",
              "              style=\"display:none;\">\n",
              "        \n",
              "  <svg xmlns=\"http://www.w3.org/2000/svg\" height=\"24px\"viewBox=\"0 0 24 24\"\n",
              "       width=\"24px\">\n",
              "    <path d=\"M0 0h24v24H0V0z\" fill=\"none\"/>\n",
              "    <path d=\"M18.56 5.44l.94 2.06.94-2.06 2.06-.94-2.06-.94-.94-2.06-.94 2.06-2.06.94zm-11 1L8.5 8.5l.94-2.06 2.06-.94-2.06-.94L8.5 2.5l-.94 2.06-2.06.94zm10 10l.94 2.06.94-2.06 2.06-.94-2.06-.94-.94-2.06-.94 2.06-2.06.94z\"/><path d=\"M17.41 7.96l-1.37-1.37c-.4-.4-.92-.59-1.43-.59-.52 0-1.04.2-1.43.59L10.3 9.45l-7.72 7.72c-.78.78-.78 2.05 0 2.83L4 21.41c.39.39.9.59 1.41.59.51 0 1.02-.2 1.41-.59l7.78-7.78 2.81-2.81c.8-.78.8-2.07 0-2.86zM5.41 20L4 18.59l7.72-7.72 1.47 1.35L5.41 20z\"/>\n",
              "  </svg>\n",
              "      </button>\n",
              "      \n",
              "  <style>\n",
              "    .colab-df-container {\n",
              "      display:flex;\n",
              "      flex-wrap:wrap;\n",
              "      gap: 12px;\n",
              "    }\n",
              "\n",
              "    .colab-df-convert {\n",
              "      background-color: #E8F0FE;\n",
              "      border: none;\n",
              "      border-radius: 50%;\n",
              "      cursor: pointer;\n",
              "      display: none;\n",
              "      fill: #1967D2;\n",
              "      height: 32px;\n",
              "      padding: 0 0 0 0;\n",
              "      width: 32px;\n",
              "    }\n",
              "\n",
              "    .colab-df-convert:hover {\n",
              "      background-color: #E2EBFA;\n",
              "      box-shadow: 0px 1px 2px rgba(60, 64, 67, 0.3), 0px 1px 3px 1px rgba(60, 64, 67, 0.15);\n",
              "      fill: #174EA6;\n",
              "    }\n",
              "\n",
              "    [theme=dark] .colab-df-convert {\n",
              "      background-color: #3B4455;\n",
              "      fill: #D2E3FC;\n",
              "    }\n",
              "\n",
              "    [theme=dark] .colab-df-convert:hover {\n",
              "      background-color: #434B5C;\n",
              "      box-shadow: 0px 1px 3px 1px rgba(0, 0, 0, 0.15);\n",
              "      filter: drop-shadow(0px 1px 2px rgba(0, 0, 0, 0.3));\n",
              "      fill: #FFFFFF;\n",
              "    }\n",
              "  </style>\n",
              "\n",
              "      <script>\n",
              "        const buttonEl =\n",
              "          document.querySelector('#df-f89e8c62-86fe-4f04-8946-10f7c44876f4 button.colab-df-convert');\n",
              "        buttonEl.style.display =\n",
              "          google.colab.kernel.accessAllowed ? 'block' : 'none';\n",
              "\n",
              "        async function convertToInteractive(key) {\n",
              "          const element = document.querySelector('#df-f89e8c62-86fe-4f04-8946-10f7c44876f4');\n",
              "          const dataTable =\n",
              "            await google.colab.kernel.invokeFunction('convertToInteractive',\n",
              "                                                     [key], {});\n",
              "          if (!dataTable) return;\n",
              "\n",
              "          const docLinkHtml = 'Like what you see? Visit the ' +\n",
              "            '<a target=\"_blank\" href=https://colab.research.google.com/notebooks/data_table.ipynb>data table notebook</a>'\n",
              "            + ' to learn more about interactive tables.';\n",
              "          element.innerHTML = '';\n",
              "          dataTable['output_type'] = 'display_data';\n",
              "          await google.colab.output.renderOutput(dataTable, element);\n",
              "          const docLink = document.createElement('div');\n",
              "          docLink.innerHTML = docLinkHtml;\n",
              "          element.appendChild(docLink);\n",
              "        }\n",
              "      </script>\n",
              "    </div>\n",
              "  </div>\n",
              "  "
            ]
          },
          "metadata": {},
          "execution_count": 2
        }
      ]
    },
    {
      "cell_type": "markdown",
      "metadata": {
        "id": "oeRSk9LpaisT"
      },
      "source": [
        "### Preparando os dados `X` e `y`"
      ]
    },
    {
      "cell_type": "markdown",
      "source": [
        "Na preparação dos dados é necessário: \n",
        "\n",
        "*   **Hot encode** dos atributos não numéricos, \n",
        "*   **Normalizar** (rescaling) os dados \n",
        "*   Formatar os dados para os padrões do **TensorFlow/Keras** (formato de matrizes e não dataframes)."
      ],
      "metadata": {
        "id": "uRo51qnf8C6T"
      }
    },
    {
      "cell_type": "code",
      "metadata": {
        "id": "WSLEWuI0a9go",
        "colab": {
          "base_uri": "https://localhost:8080/",
          "height": 424
        },
        "outputId": "e21f346a-133a-4e1b-972e-ec3a6651e126"
      },
      "source": [
        "# Variáveis de entrada\n",
        "\n",
        "X = fraud.drop(columns=['fraudulent'])\n",
        "    \n",
        "X_number = X.select_dtypes(include='number')\n",
        "X_categorical = X.select_dtypes(exclude='number')\n",
        "\n",
        "X_categorical"
      ],
      "execution_count": null,
      "outputs": [
        {
          "output_type": "execute_result",
          "data": {
            "text/plain": [
              "      card_country\n",
              "0               US\n",
              "1               US\n",
              "2               US\n",
              "3               US\n",
              "4               US\n",
              "...            ...\n",
              "89388           US\n",
              "89389           US\n",
              "89390           US\n",
              "89391           US\n",
              "89392           US\n",
              "\n",
              "[89393 rows x 1 columns]"
            ],
            "text/html": [
              "\n",
              "  <div id=\"df-6d5a358a-e05e-40f9-b8ff-b5e44af31852\">\n",
              "    <div class=\"colab-df-container\">\n",
              "      <div>\n",
              "<style scoped>\n",
              "    .dataframe tbody tr th:only-of-type {\n",
              "        vertical-align: middle;\n",
              "    }\n",
              "\n",
              "    .dataframe tbody tr th {\n",
              "        vertical-align: top;\n",
              "    }\n",
              "\n",
              "    .dataframe thead th {\n",
              "        text-align: right;\n",
              "    }\n",
              "</style>\n",
              "<table border=\"1\" class=\"dataframe\">\n",
              "  <thead>\n",
              "    <tr style=\"text-align: right;\">\n",
              "      <th></th>\n",
              "      <th>card_country</th>\n",
              "    </tr>\n",
              "  </thead>\n",
              "  <tbody>\n",
              "    <tr>\n",
              "      <th>0</th>\n",
              "      <td>US</td>\n",
              "    </tr>\n",
              "    <tr>\n",
              "      <th>1</th>\n",
              "      <td>US</td>\n",
              "    </tr>\n",
              "    <tr>\n",
              "      <th>2</th>\n",
              "      <td>US</td>\n",
              "    </tr>\n",
              "    <tr>\n",
              "      <th>3</th>\n",
              "      <td>US</td>\n",
              "    </tr>\n",
              "    <tr>\n",
              "      <th>4</th>\n",
              "      <td>US</td>\n",
              "    </tr>\n",
              "    <tr>\n",
              "      <th>...</th>\n",
              "      <td>...</td>\n",
              "    </tr>\n",
              "    <tr>\n",
              "      <th>89388</th>\n",
              "      <td>US</td>\n",
              "    </tr>\n",
              "    <tr>\n",
              "      <th>89389</th>\n",
              "      <td>US</td>\n",
              "    </tr>\n",
              "    <tr>\n",
              "      <th>89390</th>\n",
              "      <td>US</td>\n",
              "    </tr>\n",
              "    <tr>\n",
              "      <th>89391</th>\n",
              "      <td>US</td>\n",
              "    </tr>\n",
              "    <tr>\n",
              "      <th>89392</th>\n",
              "      <td>US</td>\n",
              "    </tr>\n",
              "  </tbody>\n",
              "</table>\n",
              "<p>89393 rows × 1 columns</p>\n",
              "</div>\n",
              "      <button class=\"colab-df-convert\" onclick=\"convertToInteractive('df-6d5a358a-e05e-40f9-b8ff-b5e44af31852')\"\n",
              "              title=\"Convert this dataframe to an interactive table.\"\n",
              "              style=\"display:none;\">\n",
              "        \n",
              "  <svg xmlns=\"http://www.w3.org/2000/svg\" height=\"24px\"viewBox=\"0 0 24 24\"\n",
              "       width=\"24px\">\n",
              "    <path d=\"M0 0h24v24H0V0z\" fill=\"none\"/>\n",
              "    <path d=\"M18.56 5.44l.94 2.06.94-2.06 2.06-.94-2.06-.94-.94-2.06-.94 2.06-2.06.94zm-11 1L8.5 8.5l.94-2.06 2.06-.94-2.06-.94L8.5 2.5l-.94 2.06-2.06.94zm10 10l.94 2.06.94-2.06 2.06-.94-2.06-.94-.94-2.06-.94 2.06-2.06.94z\"/><path d=\"M17.41 7.96l-1.37-1.37c-.4-.4-.92-.59-1.43-.59-.52 0-1.04.2-1.43.59L10.3 9.45l-7.72 7.72c-.78.78-.78 2.05 0 2.83L4 21.41c.39.39.9.59 1.41.59.51 0 1.02-.2 1.41-.59l7.78-7.78 2.81-2.81c.8-.78.8-2.07 0-2.86zM5.41 20L4 18.59l7.72-7.72 1.47 1.35L5.41 20z\"/>\n",
              "  </svg>\n",
              "      </button>\n",
              "      \n",
              "  <style>\n",
              "    .colab-df-container {\n",
              "      display:flex;\n",
              "      flex-wrap:wrap;\n",
              "      gap: 12px;\n",
              "    }\n",
              "\n",
              "    .colab-df-convert {\n",
              "      background-color: #E8F0FE;\n",
              "      border: none;\n",
              "      border-radius: 50%;\n",
              "      cursor: pointer;\n",
              "      display: none;\n",
              "      fill: #1967D2;\n",
              "      height: 32px;\n",
              "      padding: 0 0 0 0;\n",
              "      width: 32px;\n",
              "    }\n",
              "\n",
              "    .colab-df-convert:hover {\n",
              "      background-color: #E2EBFA;\n",
              "      box-shadow: 0px 1px 2px rgba(60, 64, 67, 0.3), 0px 1px 3px 1px rgba(60, 64, 67, 0.15);\n",
              "      fill: #174EA6;\n",
              "    }\n",
              "\n",
              "    [theme=dark] .colab-df-convert {\n",
              "      background-color: #3B4455;\n",
              "      fill: #D2E3FC;\n",
              "    }\n",
              "\n",
              "    [theme=dark] .colab-df-convert:hover {\n",
              "      background-color: #434B5C;\n",
              "      box-shadow: 0px 1px 3px 1px rgba(0, 0, 0, 0.15);\n",
              "      filter: drop-shadow(0px 1px 2px rgba(0, 0, 0, 0.3));\n",
              "      fill: #FFFFFF;\n",
              "    }\n",
              "  </style>\n",
              "\n",
              "      <script>\n",
              "        const buttonEl =\n",
              "          document.querySelector('#df-6d5a358a-e05e-40f9-b8ff-b5e44af31852 button.colab-df-convert');\n",
              "        buttonEl.style.display =\n",
              "          google.colab.kernel.accessAllowed ? 'block' : 'none';\n",
              "\n",
              "        async function convertToInteractive(key) {\n",
              "          const element = document.querySelector('#df-6d5a358a-e05e-40f9-b8ff-b5e44af31852');\n",
              "          const dataTable =\n",
              "            await google.colab.kernel.invokeFunction('convertToInteractive',\n",
              "                                                     [key], {});\n",
              "          if (!dataTable) return;\n",
              "\n",
              "          const docLinkHtml = 'Like what you see? Visit the ' +\n",
              "            '<a target=\"_blank\" href=https://colab.research.google.com/notebooks/data_table.ipynb>data table notebook</a>'\n",
              "            + ' to learn more about interactive tables.';\n",
              "          element.innerHTML = '';\n",
              "          dataTable['output_type'] = 'display_data';\n",
              "          await google.colab.output.renderOutput(dataTable, element);\n",
              "          const docLink = document.createElement('div');\n",
              "          docLink.innerHTML = docLinkHtml;\n",
              "          element.appendChild(docLink);\n",
              "        }\n",
              "      </script>\n",
              "    </div>\n",
              "  </div>\n",
              "  "
            ]
          },
          "metadata": {},
          "execution_count": 3
        }
      ]
    },
    {
      "cell_type": "code",
      "source": [
        "X=pd.concat([X_number, pd.get_dummies(X_categorical)],axis=1)\n",
        "X"
      ],
      "metadata": {
        "colab": {
          "base_uri": "https://localhost:8080/",
          "height": 424
        },
        "id": "nz9C9qD3AgFn",
        "outputId": "86a1d9b4-6d2a-46c3-de98-dfc792616ed1"
      },
      "execution_count": null,
      "outputs": [
        {
          "output_type": "execute_result",
          "data": {
            "text/plain": [
              "       amount  card_use_24h  card_country_AU  card_country_GB  card_country_US\n",
              "0       20484             0                0                0                1\n",
              "1        1211             0                0                0                1\n",
              "2        8396             1                0                0                1\n",
              "3        2359             0                0                0                1\n",
              "4        1480             3                0                0                1\n",
              "...       ...           ...              ...              ...              ...\n",
              "89388    2005             7                0                0                1\n",
              "89389   99650             1                0                0                1\n",
              "89390  260645            27                0                0                1\n",
              "89391  885549            26                0                0                1\n",
              "89392    4285             8                0                0                1\n",
              "\n",
              "[89393 rows x 5 columns]"
            ],
            "text/html": [
              "\n",
              "  <div id=\"df-4cde92cd-e2b5-4571-97c9-21ec9add6982\">\n",
              "    <div class=\"colab-df-container\">\n",
              "      <div>\n",
              "<style scoped>\n",
              "    .dataframe tbody tr th:only-of-type {\n",
              "        vertical-align: middle;\n",
              "    }\n",
              "\n",
              "    .dataframe tbody tr th {\n",
              "        vertical-align: top;\n",
              "    }\n",
              "\n",
              "    .dataframe thead th {\n",
              "        text-align: right;\n",
              "    }\n",
              "</style>\n",
              "<table border=\"1\" class=\"dataframe\">\n",
              "  <thead>\n",
              "    <tr style=\"text-align: right;\">\n",
              "      <th></th>\n",
              "      <th>amount</th>\n",
              "      <th>card_use_24h</th>\n",
              "      <th>card_country_AU</th>\n",
              "      <th>card_country_GB</th>\n",
              "      <th>card_country_US</th>\n",
              "    </tr>\n",
              "  </thead>\n",
              "  <tbody>\n",
              "    <tr>\n",
              "      <th>0</th>\n",
              "      <td>20484</td>\n",
              "      <td>0</td>\n",
              "      <td>0</td>\n",
              "      <td>0</td>\n",
              "      <td>1</td>\n",
              "    </tr>\n",
              "    <tr>\n",
              "      <th>1</th>\n",
              "      <td>1211</td>\n",
              "      <td>0</td>\n",
              "      <td>0</td>\n",
              "      <td>0</td>\n",
              "      <td>1</td>\n",
              "    </tr>\n",
              "    <tr>\n",
              "      <th>2</th>\n",
              "      <td>8396</td>\n",
              "      <td>1</td>\n",
              "      <td>0</td>\n",
              "      <td>0</td>\n",
              "      <td>1</td>\n",
              "    </tr>\n",
              "    <tr>\n",
              "      <th>3</th>\n",
              "      <td>2359</td>\n",
              "      <td>0</td>\n",
              "      <td>0</td>\n",
              "      <td>0</td>\n",
              "      <td>1</td>\n",
              "    </tr>\n",
              "    <tr>\n",
              "      <th>4</th>\n",
              "      <td>1480</td>\n",
              "      <td>3</td>\n",
              "      <td>0</td>\n",
              "      <td>0</td>\n",
              "      <td>1</td>\n",
              "    </tr>\n",
              "    <tr>\n",
              "      <th>...</th>\n",
              "      <td>...</td>\n",
              "      <td>...</td>\n",
              "      <td>...</td>\n",
              "      <td>...</td>\n",
              "      <td>...</td>\n",
              "    </tr>\n",
              "    <tr>\n",
              "      <th>89388</th>\n",
              "      <td>2005</td>\n",
              "      <td>7</td>\n",
              "      <td>0</td>\n",
              "      <td>0</td>\n",
              "      <td>1</td>\n",
              "    </tr>\n",
              "    <tr>\n",
              "      <th>89389</th>\n",
              "      <td>99650</td>\n",
              "      <td>1</td>\n",
              "      <td>0</td>\n",
              "      <td>0</td>\n",
              "      <td>1</td>\n",
              "    </tr>\n",
              "    <tr>\n",
              "      <th>89390</th>\n",
              "      <td>260645</td>\n",
              "      <td>27</td>\n",
              "      <td>0</td>\n",
              "      <td>0</td>\n",
              "      <td>1</td>\n",
              "    </tr>\n",
              "    <tr>\n",
              "      <th>89391</th>\n",
              "      <td>885549</td>\n",
              "      <td>26</td>\n",
              "      <td>0</td>\n",
              "      <td>0</td>\n",
              "      <td>1</td>\n",
              "    </tr>\n",
              "    <tr>\n",
              "      <th>89392</th>\n",
              "      <td>4285</td>\n",
              "      <td>8</td>\n",
              "      <td>0</td>\n",
              "      <td>0</td>\n",
              "      <td>1</td>\n",
              "    </tr>\n",
              "  </tbody>\n",
              "</table>\n",
              "<p>89393 rows × 5 columns</p>\n",
              "</div>\n",
              "      <button class=\"colab-df-convert\" onclick=\"convertToInteractive('df-4cde92cd-e2b5-4571-97c9-21ec9add6982')\"\n",
              "              title=\"Convert this dataframe to an interactive table.\"\n",
              "              style=\"display:none;\">\n",
              "        \n",
              "  <svg xmlns=\"http://www.w3.org/2000/svg\" height=\"24px\"viewBox=\"0 0 24 24\"\n",
              "       width=\"24px\">\n",
              "    <path d=\"M0 0h24v24H0V0z\" fill=\"none\"/>\n",
              "    <path d=\"M18.56 5.44l.94 2.06.94-2.06 2.06-.94-2.06-.94-.94-2.06-.94 2.06-2.06.94zm-11 1L8.5 8.5l.94-2.06 2.06-.94-2.06-.94L8.5 2.5l-.94 2.06-2.06.94zm10 10l.94 2.06.94-2.06 2.06-.94-2.06-.94-.94-2.06-.94 2.06-2.06.94z\"/><path d=\"M17.41 7.96l-1.37-1.37c-.4-.4-.92-.59-1.43-.59-.52 0-1.04.2-1.43.59L10.3 9.45l-7.72 7.72c-.78.78-.78 2.05 0 2.83L4 21.41c.39.39.9.59 1.41.59.51 0 1.02-.2 1.41-.59l7.78-7.78 2.81-2.81c.8-.78.8-2.07 0-2.86zM5.41 20L4 18.59l7.72-7.72 1.47 1.35L5.41 20z\"/>\n",
              "  </svg>\n",
              "      </button>\n",
              "      \n",
              "  <style>\n",
              "    .colab-df-container {\n",
              "      display:flex;\n",
              "      flex-wrap:wrap;\n",
              "      gap: 12px;\n",
              "    }\n",
              "\n",
              "    .colab-df-convert {\n",
              "      background-color: #E8F0FE;\n",
              "      border: none;\n",
              "      border-radius: 50%;\n",
              "      cursor: pointer;\n",
              "      display: none;\n",
              "      fill: #1967D2;\n",
              "      height: 32px;\n",
              "      padding: 0 0 0 0;\n",
              "      width: 32px;\n",
              "    }\n",
              "\n",
              "    .colab-df-convert:hover {\n",
              "      background-color: #E2EBFA;\n",
              "      box-shadow: 0px 1px 2px rgba(60, 64, 67, 0.3), 0px 1px 3px 1px rgba(60, 64, 67, 0.15);\n",
              "      fill: #174EA6;\n",
              "    }\n",
              "\n",
              "    [theme=dark] .colab-df-convert {\n",
              "      background-color: #3B4455;\n",
              "      fill: #D2E3FC;\n",
              "    }\n",
              "\n",
              "    [theme=dark] .colab-df-convert:hover {\n",
              "      background-color: #434B5C;\n",
              "      box-shadow: 0px 1px 3px 1px rgba(0, 0, 0, 0.15);\n",
              "      filter: drop-shadow(0px 1px 2px rgba(0, 0, 0, 0.3));\n",
              "      fill: #FFFFFF;\n",
              "    }\n",
              "  </style>\n",
              "\n",
              "      <script>\n",
              "        const buttonEl =\n",
              "          document.querySelector('#df-4cde92cd-e2b5-4571-97c9-21ec9add6982 button.colab-df-convert');\n",
              "        buttonEl.style.display =\n",
              "          google.colab.kernel.accessAllowed ? 'block' : 'none';\n",
              "\n",
              "        async function convertToInteractive(key) {\n",
              "          const element = document.querySelector('#df-4cde92cd-e2b5-4571-97c9-21ec9add6982');\n",
              "          const dataTable =\n",
              "            await google.colab.kernel.invokeFunction('convertToInteractive',\n",
              "                                                     [key], {});\n",
              "          if (!dataTable) return;\n",
              "\n",
              "          const docLinkHtml = 'Like what you see? Visit the ' +\n",
              "            '<a target=\"_blank\" href=https://colab.research.google.com/notebooks/data_table.ipynb>data table notebook</a>'\n",
              "            + ' to learn more about interactive tables.';\n",
              "          element.innerHTML = '';\n",
              "          dataTable['output_type'] = 'display_data';\n",
              "          await google.colab.output.renderOutput(dataTable, element);\n",
              "          const docLink = document.createElement('div');\n",
              "          docLink.innerHTML = docLinkHtml;\n",
              "          element.appendChild(docLink);\n",
              "        }\n",
              "      </script>\n",
              "    </div>\n",
              "  </div>\n",
              "  "
            ]
          },
          "metadata": {},
          "execution_count": 4
        }
      ]
    },
    {
      "cell_type": "code",
      "source": [
        "# Normalizando os dados\n",
        "\n",
        "from sklearn.preprocessing import StandardScaler\n",
        "\n",
        "scaler = StandardScaler()\n",
        "scaler.fit(X)\n",
        "\n",
        "X_matrix = scaler.transform(X)\n",
        "X = pd.DataFrame(X_matrix,columns=X.columns)\n",
        "X\n"
      ],
      "metadata": {
        "colab": {
          "base_uri": "https://localhost:8080/",
          "height": 424
        },
        "id": "i1ZbR6lt8W4e",
        "outputId": "1250a995-3aec-499b-941e-288da58c5d4d"
      },
      "execution_count": null,
      "outputs": [
        {
          "output_type": "execute_result",
          "data": {
            "text/plain": [
              "          amount  card_use_24h  card_country_AU  card_country_GB  \\\n",
              "0       0.268680     -0.172967        -0.156796        -0.178289   \n",
              "1      -0.197635     -0.172967        -0.156796        -0.178289   \n",
              "2      -0.023792     -0.128086        -0.156796        -0.178289   \n",
              "3      -0.169859     -0.172967        -0.156796        -0.178289   \n",
              "4      -0.191127     -0.038324        -0.156796        -0.178289   \n",
              "...          ...           ...              ...              ...   \n",
              "89388  -0.178424      0.141200        -0.156796        -0.178289   \n",
              "89389   2.184120     -0.128086        -0.156796        -0.178289   \n",
              "89390   6.079432      1.038820        -0.156796        -0.178289   \n",
              "89391  21.199133      0.993939        -0.156796        -0.178289   \n",
              "89392  -0.123259      0.186081        -0.156796        -0.178289   \n",
              "\n",
              "       card_country_US  \n",
              "0             0.240791  \n",
              "1             0.240791  \n",
              "2             0.240791  \n",
              "3             0.240791  \n",
              "4             0.240791  \n",
              "...                ...  \n",
              "89388         0.240791  \n",
              "89389         0.240791  \n",
              "89390         0.240791  \n",
              "89391         0.240791  \n",
              "89392         0.240791  \n",
              "\n",
              "[89393 rows x 5 columns]"
            ],
            "text/html": [
              "\n",
              "  <div id=\"df-c06c2edf-1ca1-4056-b81b-5efee93643f9\">\n",
              "    <div class=\"colab-df-container\">\n",
              "      <div>\n",
              "<style scoped>\n",
              "    .dataframe tbody tr th:only-of-type {\n",
              "        vertical-align: middle;\n",
              "    }\n",
              "\n",
              "    .dataframe tbody tr th {\n",
              "        vertical-align: top;\n",
              "    }\n",
              "\n",
              "    .dataframe thead th {\n",
              "        text-align: right;\n",
              "    }\n",
              "</style>\n",
              "<table border=\"1\" class=\"dataframe\">\n",
              "  <thead>\n",
              "    <tr style=\"text-align: right;\">\n",
              "      <th></th>\n",
              "      <th>amount</th>\n",
              "      <th>card_use_24h</th>\n",
              "      <th>card_country_AU</th>\n",
              "      <th>card_country_GB</th>\n",
              "      <th>card_country_US</th>\n",
              "    </tr>\n",
              "  </thead>\n",
              "  <tbody>\n",
              "    <tr>\n",
              "      <th>0</th>\n",
              "      <td>0.268680</td>\n",
              "      <td>-0.172967</td>\n",
              "      <td>-0.156796</td>\n",
              "      <td>-0.178289</td>\n",
              "      <td>0.240791</td>\n",
              "    </tr>\n",
              "    <tr>\n",
              "      <th>1</th>\n",
              "      <td>-0.197635</td>\n",
              "      <td>-0.172967</td>\n",
              "      <td>-0.156796</td>\n",
              "      <td>-0.178289</td>\n",
              "      <td>0.240791</td>\n",
              "    </tr>\n",
              "    <tr>\n",
              "      <th>2</th>\n",
              "      <td>-0.023792</td>\n",
              "      <td>-0.128086</td>\n",
              "      <td>-0.156796</td>\n",
              "      <td>-0.178289</td>\n",
              "      <td>0.240791</td>\n",
              "    </tr>\n",
              "    <tr>\n",
              "      <th>3</th>\n",
              "      <td>-0.169859</td>\n",
              "      <td>-0.172967</td>\n",
              "      <td>-0.156796</td>\n",
              "      <td>-0.178289</td>\n",
              "      <td>0.240791</td>\n",
              "    </tr>\n",
              "    <tr>\n",
              "      <th>4</th>\n",
              "      <td>-0.191127</td>\n",
              "      <td>-0.038324</td>\n",
              "      <td>-0.156796</td>\n",
              "      <td>-0.178289</td>\n",
              "      <td>0.240791</td>\n",
              "    </tr>\n",
              "    <tr>\n",
              "      <th>...</th>\n",
              "      <td>...</td>\n",
              "      <td>...</td>\n",
              "      <td>...</td>\n",
              "      <td>...</td>\n",
              "      <td>...</td>\n",
              "    </tr>\n",
              "    <tr>\n",
              "      <th>89388</th>\n",
              "      <td>-0.178424</td>\n",
              "      <td>0.141200</td>\n",
              "      <td>-0.156796</td>\n",
              "      <td>-0.178289</td>\n",
              "      <td>0.240791</td>\n",
              "    </tr>\n",
              "    <tr>\n",
              "      <th>89389</th>\n",
              "      <td>2.184120</td>\n",
              "      <td>-0.128086</td>\n",
              "      <td>-0.156796</td>\n",
              "      <td>-0.178289</td>\n",
              "      <td>0.240791</td>\n",
              "    </tr>\n",
              "    <tr>\n",
              "      <th>89390</th>\n",
              "      <td>6.079432</td>\n",
              "      <td>1.038820</td>\n",
              "      <td>-0.156796</td>\n",
              "      <td>-0.178289</td>\n",
              "      <td>0.240791</td>\n",
              "    </tr>\n",
              "    <tr>\n",
              "      <th>89391</th>\n",
              "      <td>21.199133</td>\n",
              "      <td>0.993939</td>\n",
              "      <td>-0.156796</td>\n",
              "      <td>-0.178289</td>\n",
              "      <td>0.240791</td>\n",
              "    </tr>\n",
              "    <tr>\n",
              "      <th>89392</th>\n",
              "      <td>-0.123259</td>\n",
              "      <td>0.186081</td>\n",
              "      <td>-0.156796</td>\n",
              "      <td>-0.178289</td>\n",
              "      <td>0.240791</td>\n",
              "    </tr>\n",
              "  </tbody>\n",
              "</table>\n",
              "<p>89393 rows × 5 columns</p>\n",
              "</div>\n",
              "      <button class=\"colab-df-convert\" onclick=\"convertToInteractive('df-c06c2edf-1ca1-4056-b81b-5efee93643f9')\"\n",
              "              title=\"Convert this dataframe to an interactive table.\"\n",
              "              style=\"display:none;\">\n",
              "        \n",
              "  <svg xmlns=\"http://www.w3.org/2000/svg\" height=\"24px\"viewBox=\"0 0 24 24\"\n",
              "       width=\"24px\">\n",
              "    <path d=\"M0 0h24v24H0V0z\" fill=\"none\"/>\n",
              "    <path d=\"M18.56 5.44l.94 2.06.94-2.06 2.06-.94-2.06-.94-.94-2.06-.94 2.06-2.06.94zm-11 1L8.5 8.5l.94-2.06 2.06-.94-2.06-.94L8.5 2.5l-.94 2.06-2.06.94zm10 10l.94 2.06.94-2.06 2.06-.94-2.06-.94-.94-2.06-.94 2.06-2.06.94z\"/><path d=\"M17.41 7.96l-1.37-1.37c-.4-.4-.92-.59-1.43-.59-.52 0-1.04.2-1.43.59L10.3 9.45l-7.72 7.72c-.78.78-.78 2.05 0 2.83L4 21.41c.39.39.9.59 1.41.59.51 0 1.02-.2 1.41-.59l7.78-7.78 2.81-2.81c.8-.78.8-2.07 0-2.86zM5.41 20L4 18.59l7.72-7.72 1.47 1.35L5.41 20z\"/>\n",
              "  </svg>\n",
              "      </button>\n",
              "      \n",
              "  <style>\n",
              "    .colab-df-container {\n",
              "      display:flex;\n",
              "      flex-wrap:wrap;\n",
              "      gap: 12px;\n",
              "    }\n",
              "\n",
              "    .colab-df-convert {\n",
              "      background-color: #E8F0FE;\n",
              "      border: none;\n",
              "      border-radius: 50%;\n",
              "      cursor: pointer;\n",
              "      display: none;\n",
              "      fill: #1967D2;\n",
              "      height: 32px;\n",
              "      padding: 0 0 0 0;\n",
              "      width: 32px;\n",
              "    }\n",
              "\n",
              "    .colab-df-convert:hover {\n",
              "      background-color: #E2EBFA;\n",
              "      box-shadow: 0px 1px 2px rgba(60, 64, 67, 0.3), 0px 1px 3px 1px rgba(60, 64, 67, 0.15);\n",
              "      fill: #174EA6;\n",
              "    }\n",
              "\n",
              "    [theme=dark] .colab-df-convert {\n",
              "      background-color: #3B4455;\n",
              "      fill: #D2E3FC;\n",
              "    }\n",
              "\n",
              "    [theme=dark] .colab-df-convert:hover {\n",
              "      background-color: #434B5C;\n",
              "      box-shadow: 0px 1px 3px 1px rgba(0, 0, 0, 0.15);\n",
              "      filter: drop-shadow(0px 1px 2px rgba(0, 0, 0, 0.3));\n",
              "      fill: #FFFFFF;\n",
              "    }\n",
              "  </style>\n",
              "\n",
              "      <script>\n",
              "        const buttonEl =\n",
              "          document.querySelector('#df-c06c2edf-1ca1-4056-b81b-5efee93643f9 button.colab-df-convert');\n",
              "        buttonEl.style.display =\n",
              "          google.colab.kernel.accessAllowed ? 'block' : 'none';\n",
              "\n",
              "        async function convertToInteractive(key) {\n",
              "          const element = document.querySelector('#df-c06c2edf-1ca1-4056-b81b-5efee93643f9');\n",
              "          const dataTable =\n",
              "            await google.colab.kernel.invokeFunction('convertToInteractive',\n",
              "                                                     [key], {});\n",
              "          if (!dataTable) return;\n",
              "\n",
              "          const docLinkHtml = 'Like what you see? Visit the ' +\n",
              "            '<a target=\"_blank\" href=https://colab.research.google.com/notebooks/data_table.ipynb>data table notebook</a>'\n",
              "            + ' to learn more about interactive tables.';\n",
              "          element.innerHTML = '';\n",
              "          dataTable['output_type'] = 'display_data';\n",
              "          await google.colab.output.renderOutput(dataTable, element);\n",
              "          const docLink = document.createElement('div');\n",
              "          docLink.innerHTML = docLinkHtml;\n",
              "          element.appendChild(docLink);\n",
              "        }\n",
              "      </script>\n",
              "    </div>\n",
              "  </div>\n",
              "  "
            ]
          },
          "metadata": {},
          "execution_count": 5
        }
      ]
    },
    {
      "cell_type": "code",
      "metadata": {
        "id": "qf1XLBOHxbzd"
      },
      "source": [
        "# Valores de saída\n",
        "\n",
        "fraud.fraudulent = fraud.fraudulent.replace({True:1, False:0})\n",
        "y=fraud.fraudulent"
      ],
      "execution_count": null,
      "outputs": []
    },
    {
      "cell_type": "code",
      "metadata": {
        "id": "RdElnvhvcSAe"
      },
      "source": [
        "## Separando os dados de Treinamento e Teste\n",
        "from sklearn.model_selection import train_test_split\n",
        "\n",
        "seed = 1984\n",
        "X_train, X_test, y_train, y_test = train_test_split(X, y, test_size=0.3, stratify=y, random_state=seed)"
      ],
      "execution_count": null,
      "outputs": []
    },
    {
      "cell_type": "markdown",
      "metadata": {
        "id": "rfOUECSdyENj"
      },
      "source": [
        "### Adequando os dados para o `Keras`\n",
        "\n",
        "Os dados são reformatados em matrizes e a saída em uma matriz binária."
      ]
    },
    {
      "cell_type": "code",
      "metadata": {
        "id": "GNQYR8xQyWeD"
      },
      "source": [
        "Xm = np.matrix(X_train)\n",
        "ym = np.transpose(np.matrix(y_train))"
      ],
      "execution_count": null,
      "outputs": []
    },
    {
      "cell_type": "code",
      "source": [
        "from keras.utils import to_categorical\n",
        "y_binary = to_categorical(ym)"
      ],
      "metadata": {
        "id": "IE05v4vXEKow"
      },
      "execution_count": null,
      "outputs": []
    },
    {
      "cell_type": "markdown",
      "metadata": {
        "id": "zoKFbY_gyf2Z"
      },
      "source": [
        "### Configuração e Treinamento da Rede DeepLearning\n",
        "\n",
        "Nossa rede terá:\n",
        "\n",
        "\n",
        "*   5 neurônios de entrada, correspondendo a cada atributo de entrada\n",
        "*   2 camadas ocultas de 8 neurônios cada\n",
        "*   1 camada de saída com 2 neurônios correspondendo às duas classes de saída\n",
        "\n",
        "Usaremos a função de ativaçã: sigmoid.\n",
        "\n",
        "```\n",
        "model = Sequential([layers.Dense(Xm.shape[1], activation='sigmoid', input_shape=[Xm.shape[1],])]) \n",
        "\n",
        "model.add(layers.Dense(8, activation='sigmoid'))\n",
        "model.add(layers.Dense(8, activation='sigmoid'))\n",
        "model.add(layers.Dense(2, activation='sigmoid'))\n",
        "```\n",
        "\n"
      ]
    },
    {
      "cell_type": "code",
      "metadata": {
        "id": "YVUC8oWhylEQ",
        "colab": {
          "base_uri": "https://localhost:8080/"
        },
        "outputId": "ed40acd7-a2f7-4532-9a50-851996d80283"
      },
      "source": [
        "from keras import Sequential, layers\n",
        "\n",
        "all_results = [] \n",
        "\n",
        "# Definição\n",
        "\n",
        "model = Sequential([layers.Dense(5, activation='sigmoid', input_shape=[5,])]) \n",
        "#model = Sequential([layers.Dense(Xm.shape[1], activation='sigmoid', input_shape=[Xm.shape[1],])]) \n",
        "\n",
        "\n",
        "model.add(layers.Dense(8, activation='sigmoid'))\n",
        "model.add(layers.Dense(8, activation='sigmoid'))\n",
        "model.add(layers.Dense(2, activation='sigmoid'))\n",
        "model.compile(loss='categorical_crossentropy', optimizer='adam', metrics=['accuracy'])\n",
        "\n",
        "# Treinamento\n",
        "history = model.fit(Xm, y_binary, validation_split=0.2, epochs=100)\n"
      ],
      "execution_count": null,
      "outputs": [
        {
          "output_type": "stream",
          "name": "stdout",
          "text": [
            "1565/1565 [==============================] - 4s 2ms/step - loss: 0.6055 - accuracy: 0.6730 - val_loss: 0.6058 - val_accuracy: 0.6758\n",
            "Epoch 88/100\n",
            "1565/1565 [==============================] - 4s 2ms/step - loss: 0.6055 - accuracy: 0.6728 - val_loss: 0.6057 - val_accuracy: 0.6742\n",
            "Epoch 89/100\n",
            "1565/1565 [==============================] - 4s 2ms/step - loss: 0.6054 - accuracy: 0.6731 - val_loss: 0.6058 - val_accuracy: 0.6755\n",
            "Epoch 90/100\n",
            "1565/1565 [==============================] - 4s 2ms/step - loss: 0.6055 - accuracy: 0.6724 - val_loss: 0.6058 - val_accuracy: 0.6749\n",
            "Epoch 91/100\n",
            "1565/1565 [==============================] - 4s 2ms/step - loss: 0.6054 - accuracy: 0.6720 - val_loss: 0.6058 - val_accuracy: 0.6758\n",
            "Epoch 92/100\n",
            "1565/1565 [==============================] - 4s 2ms/step - loss: 0.6053 - accuracy: 0.6739 - val_loss: 0.6057 - val_accuracy: 0.6751\n",
            "Epoch 93/100\n",
            "1565/1565 [==============================] - 4s 3ms/step - loss: 0.6054 - accuracy: 0.6730 - val_loss: 0.6066 - val_accuracy: 0.6779\n",
            "Epoch 94/100\n",
            "1565/1565 [==============================] - 4s 2ms/step - loss: 0.6053 - accuracy: 0.6729 - val_loss: 0.6057 - val_accuracy: 0.6750\n",
            "Epoch 95/100\n",
            "1565/1565 [==============================] - 4s 2ms/step - loss: 0.6053 - accuracy: 0.6729 - val_loss: 0.6058 - val_accuracy: 0.6762\n",
            "Epoch 96/100\n",
            "1565/1565 [==============================] - 4s 3ms/step - loss: 0.6054 - accuracy: 0.6735 - val_loss: 0.6058 - val_accuracy: 0.6736\n",
            "Epoch 97/100\n",
            "1565/1565 [==============================] - 4s 2ms/step - loss: 0.6054 - accuracy: 0.6727 - val_loss: 0.6058 - val_accuracy: 0.6746\n",
            "Epoch 98/100\n",
            "1565/1565 [==============================] - 4s 2ms/step - loss: 0.6052 - accuracy: 0.6728 - val_loss: 0.6063 - val_accuracy: 0.6741\n",
            "Epoch 99/100\n",
            "1565/1565 [==============================] - 4s 3ms/step - loss: 0.6054 - accuracy: 0.6747 - val_loss: 0.6064 - val_accuracy: 0.6728\n",
            "Epoch 100/100\n",
            "1565/1565 [==============================] - 4s 2ms/step - loss: 0.6053 - accuracy: 0.6730 - val_loss: 0.6057 - val_accuracy: 0.6757\n"
          ]
        }
      ]
    },
    {
      "cell_type": "markdown",
      "metadata": {
        "id": "pmfPcs6J0ZFC"
      },
      "source": [
        "O Treinamento busca a cada etapa minimizar o erro (aumentar a acuracidade). Isso entretanto não ocorre de maneira regular. \n",
        "\n",
        "O Treinamento pode ser concluído quando se chega a uma determinado erro desejado ou após um certo número de iterações, uma vez que o modelo pode não convergir."
      ]
    },
    {
      "cell_type": "code",
      "source": [
        "#@markdown executar!\n",
        "def plot_loss_acc(history,more_title=''):\n",
        "    \n",
        "    loss = history.history['loss']\n",
        "    val_loss = history.history['val_loss']\n",
        "    epochs = range(1, len(loss) + 1)\n",
        "    plt.figure(figsize=(8,5))\n",
        "    plt.plot(epochs, loss, 'y', label='Training loss')\n",
        "    plt.plot(epochs, val_loss, 'r', label='Validation loss')\n",
        "    plt.title('Training and validation loss' + ' ' + more_title)\n",
        "    plt.xlabel('Epochs')\n",
        "    plt.ylabel('Loss')\n",
        "    plt.legend()\n",
        "    plt.show()\n",
        "    \n",
        "    acc = history.history['accuracy']\n",
        "    val_acc = history.history['val_accuracy']\n",
        "    plt.figure(figsize=(8,5))\n",
        "    plt.plot(epochs, acc, 'y', label='Training acc')\n",
        "    plt.plot(epochs, val_acc, 'r', label='Validation acc')\n",
        "    plt.title('Training and validation accuracy' + ' ' + more_title)\n",
        "    plt.xlabel('Epochs')\n",
        "    plt.ylabel('Accuracy')\n",
        "    plt.legend()\n",
        "    plt.show()\n",
        "\n",
        "    print(more_title + 'Accuracy Train: {:.2f} %, Accuracy Test: {:.2f} %'.format(acc[len(acc)-1] *100, val_acc[len(val_acc)-1]*100))\n",
        "\n",
        "    return loss, val_loss, acc, val_acc\n",
        "\n",
        "print('completed!')    "
      ],
      "metadata": {
        "cellView": "form",
        "id": "zgQMWnmqSYhL"
      },
      "execution_count": null,
      "outputs": []
    },
    {
      "cell_type": "code",
      "metadata": {
        "id": "zrkQMDRzzmJq",
        "colab": {
          "base_uri": "https://localhost:8080/",
          "height": 975
        },
        "outputId": "8e3ebe9c-78c8-4d42-e896-9d4324485f9e"
      },
      "source": [
        "loss, val_loss, acc, val_acc = plot_loss_acc(history,'Two Hidden Layer Neural Network 5,8,8,2 (sigmoid)')"
      ],
      "execution_count": null,
      "outputs": [
        {
          "output_type": "display_data",
          "data": {
            "text/plain": [
              "<Figure size 800x500 with 1 Axes>"
            ],
            "image/png": "[encoded data removed]"
          },
          "metadata": {}
        },
        {
          "output_type": "display_data",
          "data": {
            "text/plain": [
              "<Figure size 800x500 with 1 Axes>"
            ],
            "image/png": "[encoded data removed]"
          },
          "metadata": {}
        },
        {
          "output_type": "stream",
          "name": "stdout",
          "text": [
            "Two Hidden Layer Neural Network 5,8,8,2 (sigmoid)Accuracy Train: 67.30 %, Accuracy Test: 67.57 %\n"
          ]
        }
      ]
    },
    {
      "cell_type": "markdown",
      "metadata": {
        "id": "5Oc0b8_O05yj"
      },
      "source": [
        "Em cada neurônio de saída a rede retorna a probabilidade da classe. A seleção do neurônio de maior valor a classe mais provável (`np.argmax()`)."
      ]
    },
    {
      "cell_type": "code",
      "metadata": {
        "id": "O0df3TPl1B2b",
        "colab": {
          "base_uri": "https://localhost:8080/"
        },
        "outputId": "542f3871-b906-40d6-bcf0-8569901003d8"
      },
      "source": [
        "from sklearn.metrics import confusion_matrix\n",
        "from sklearn.metrics import classification_report\n",
        "\n",
        "# Predição\n",
        "Xm = np.matrix(X_test )\n",
        "y_pred = np.argmax(model.predict(Xm), axis=-1)\n",
        "    \n",
        "print(confusion_matrix(y_test,y_pred))\n",
        "print(classification_report(y_test,y_pred))"
      ],
      "execution_count": null,
      "outputs": [
        {
          "output_type": "stream",
          "name": "stdout",
          "text": [
            "839/839 [==============================] - 1s 2ms/step\n",
            "[[10387  3165]\n",
            " [ 5721  7545]]\n",
            "              precision    recall  f1-score   support\n",
            "\n",
            "           0       0.64      0.77      0.70     13552\n",
            "           1       0.70      0.57      0.63     13266\n",
            "\n",
            "    accuracy                           0.67     26818\n",
            "   macro avg       0.67      0.67      0.66     26818\n",
            "weighted avg       0.67      0.67      0.67     26818\n",
            "\n"
          ]
        }
      ]
    },
    {
      "cell_type": "markdown",
      "metadata": {
        "id": "RHTqgXUb1Ydm"
      },
      "source": [
        "## **DESAFIO** $\\rightarrow$ **Ganhe 0.5 adicional na N2**\n",
        "\n",
        "Altere os códigos acima e **busque uma configuração da rede Deep Learning para obter uma acuracidade maior que 75%**.\n",
        "\n",
        "Você pode:\n",
        "\n",
        "1. Adicionar camadas\n",
        "1. Alterar as funções de ativação\n",
        "1. Alterar o número de neurônios de cada camada\n",
        " \n",
        "Ou ainda quaisquer outros parâmetros que você pode encontrar em  configurações em https://keras.io/. Só não é permitido alterar o número de epochs do treinamento que deve permanecer em 100. Os conjuntos de Treinamento e Teste devem também ser mantidos, respeitando o seed 1984.\n",
        "\n"
      ]
    },
    {
      "cell_type": "markdown",
      "source": [
        "#### Entrega Individual\n",
        "0.5 adicional na N1 para o aluno de cada turma que obtiver a maior acuracidade com valor mínimo de 75%. No caso de empate o 0.5 ponto adicional será dado para os alunos desde que as configurações sejam diferentes ou ao primeiro a fazer a entrega. Para configurações iguais somente a primeira entrega será considerada.  \n",
        "**Bom Desafio!**"
      ],
      "metadata": {
        "id": "kXnJxDMEIYVA"
      }
    }
  ]
}