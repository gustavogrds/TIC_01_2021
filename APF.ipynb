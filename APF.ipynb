{
  "nbformat": 4,
  "nbformat_minor": 0,
  "metadata": {
    "colab": {
      "name": "APF.ipynb",
      "provenance": [],
      "include_colab_link": true
    },
    "kernelspec": {
      "name": "python3",
      "display_name": "Python 3"
    },
    "language_info": {
      "name": "python"
    }
  },
  "cells": [
    {
      "cell_type": "markdown",
      "metadata": {
        "id": "view-in-github",
        "colab_type": "text"
      },
      "source": [
        "<a href=\"https://colab.research.google.com/github/gustavogrds/TIC_01_2023/blob/main/APF.ipynb\" target=\"_parent\"><img src=\"https://colab.research.google.com/assets/colab-badge.svg\" alt=\"Open In Colab\"/></a>"
      ]
    },
    {
      "cell_type": "markdown",
      "metadata": {
        "id": "J3LMBfpeHTwb"
      },
      "source": [
        "<head>\n",
        "  <meta name=\"author\" content=\"Rogério de Oliveira\">\n",
        "  <meta institution=\"author\" content=\"Universidade Presbiteriana Mackenzie\">\n",
        "</head>\n",
        "\n",
        "<img src=\"http://meusite.mackenzie.br/rogerio/mackenzie_logo/UPM.2_horizontal_vermelho.jpg\" width=300, align=\"right\">\n",
        "<!-- <h1 align=left><font size = 6, style=\"color:rgb(200,0,0)\"> optional title </font></h1> -->\n"
      ]
    },
    {
      "cell_type": "markdown",
      "metadata": {
        "id": "Ue2YcVySWe_i"
      },
      "source": [
        "# Avaliação PF\n",
        "***\n",
        "*Boa prova!*"
      ]
    },
    {
      "cell_type": "markdown",
      "metadata": {
        "id": "TURtr7Ry2eXO"
      },
      "source": [
        "Esta avaliação é composta por 2 exercícios. No primeiro você vai trabalhar modelos de Classificação, no segundo modelos de Clusterização.\n",
        "\n",
        "Entrega:\n",
        "\n",
        "1. Poste um único arquivo  seu código em formato .ipynb e adicione nos comentários da tarefa o link do seu Colab compartilhado (não esqueça de liberar o compartilhamento). **Não há questionário no Moodle para estes exercícios, você deverá postar o seu código!**\n",
        "\n",
        "2. O seu código deve ser completamente executável (não serão avaliados códigos que não executem completamente).\n",
        "\n",
        "3. Seu código deve ser minimamente claro e organizado. **Adicione texto justificando suas escolhas e suas conclusões**. Isso faz parte e será avaliado na atividade.\n",
        "\n",
        "Os **trabalhos são individuais**. Trabalhos semelhantes entre alunos terão a nota dividida pelo número de alunos com trabalhos semelhantes."
      ]
    },
    {
      "cell_type": "markdown",
      "metadata": {
        "id": "m85vjcNl3-TP"
      },
      "source": [
        "# Exercício 1. Case: Predict Wine Quality\n",
        "\n",
        "O conjunto de dados de qualidade do vinho envolve a previsão da qualidade dos vinhos brancos e tinto em uma escala, dadas propriedades químicas de cada vinho. Seu objetivo é prever a qualidade dos vinhos.\n",
        "\n",
        "1. Empregue ao menos 3 modelos de classificação\n",
        "2. Avalie o melhor, justificando sua escolha\n",
        "3. Empregue o melhor modelo para a predição da qualidade de um vinho tinto cujos valores sejam a média e o terceiro quartil dos valores de todos os vinhos tintos.\n",
        "\n",
        "Lembre-se de verificar a qualidade dos dados (valores ausentes por exemplo), a necessidade de normalizações e encodes, remoção de atributos etc. justificando, nos casos que julgar necessário, as tranformações que você optar por fazer.\n",
        "\n",
        "Ao final não esqueça de escrever um parágrafo com as suas conclusões."
      ]
    },
    {
      "cell_type": "markdown",
      "source": [
        "### Avaliação\n",
        "\n",
        "* (1,0) Preparação dos dados\n",
        "* (2,0) Seleção do Modelo\n",
        "* (2,0) Predição\n",
        "* (1,0) Conclusão"
      ],
      "metadata": {
        "id": "ZC1PvUVYaRTc"
      }
    },
    {
      "cell_type": "code",
      "metadata": {
        "colab": {
          "base_uri": "https://localhost:8080/",
          "height": 224
        },
        "id": "q1ihqp0RuBRJ",
        "outputId": "b501f551-7e41-49b4-bdf9-bb0d7eb6d5da"
      },
      "source": [
        "import pandas as pd\n",
        "\n",
        "#Carregando o dataset\n",
        "\n",
        "dfred = pd.read_csv('https://archive.ics.uci.edu/ml/machine-learning-databases/wine-quality/winequality-red.csv',sep=';')\n",
        "dfred['tipo'] = 0\n",
        "\n",
        "dfwhite = pd.read_csv('https://archive.ics.uci.edu/ml/machine-learning-databases/wine-quality/winequality-white.csv',sep=';')\n",
        "dfwhite['tipo'] = 1\n",
        "\n",
        "df = pd.concat([dfred,dfwhite]).reset_index(drop=True)\n",
        "\n",
        "df.head()"
      ],
      "execution_count": null,
      "outputs": [
        {
          "output_type": "execute_result",
          "data": {
            "text/html": [
              "<div>\n",
              "<style scoped>\n",
              "    .dataframe tbody tr th:only-of-type {\n",
              "        vertical-align: middle;\n",
              "    }\n",
              "\n",
              "    .dataframe tbody tr th {\n",
              "        vertical-align: top;\n",
              "    }\n",
              "\n",
              "    .dataframe thead th {\n",
              "        text-align: right;\n",
              "    }\n",
              "</style>\n",
              "<table border=\"1\" class=\"dataframe\">\n",
              "  <thead>\n",
              "    <tr style=\"text-align: right;\">\n",
              "      <th></th>\n",
              "      <th>fixed acidity</th>\n",
              "      <th>volatile acidity</th>\n",
              "      <th>citric acid</th>\n",
              "      <th>residual sugar</th>\n",
              "      <th>chlorides</th>\n",
              "      <th>free sulfur dioxide</th>\n",
              "      <th>total sulfur dioxide</th>\n",
              "      <th>density</th>\n",
              "      <th>pH</th>\n",
              "      <th>sulphates</th>\n",
              "      <th>alcohol</th>\n",
              "      <th>quality</th>\n",
              "      <th>tipo</th>\n",
              "    </tr>\n",
              "  </thead>\n",
              "  <tbody>\n",
              "    <tr>\n",
              "      <th>0</th>\n",
              "      <td>7.4</td>\n",
              "      <td>0.70</td>\n",
              "      <td>0.00</td>\n",
              "      <td>1.9</td>\n",
              "      <td>0.076</td>\n",
              "      <td>11.0</td>\n",
              "      <td>34.0</td>\n",
              "      <td>0.9978</td>\n",
              "      <td>3.51</td>\n",
              "      <td>0.56</td>\n",
              "      <td>9.4</td>\n",
              "      <td>5</td>\n",
              "      <td>0</td>\n",
              "    </tr>\n",
              "    <tr>\n",
              "      <th>1</th>\n",
              "      <td>7.8</td>\n",
              "      <td>0.88</td>\n",
              "      <td>0.00</td>\n",
              "      <td>2.6</td>\n",
              "      <td>0.098</td>\n",
              "      <td>25.0</td>\n",
              "      <td>67.0</td>\n",
              "      <td>0.9968</td>\n",
              "      <td>3.20</td>\n",
              "      <td>0.68</td>\n",
              "      <td>9.8</td>\n",
              "      <td>5</td>\n",
              "      <td>0</td>\n",
              "    </tr>\n",
              "    <tr>\n",
              "      <th>2</th>\n",
              "      <td>7.8</td>\n",
              "      <td>0.76</td>\n",
              "      <td>0.04</td>\n",
              "      <td>2.3</td>\n",
              "      <td>0.092</td>\n",
              "      <td>15.0</td>\n",
              "      <td>54.0</td>\n",
              "      <td>0.9970</td>\n",
              "      <td>3.26</td>\n",
              "      <td>0.65</td>\n",
              "      <td>9.8</td>\n",
              "      <td>5</td>\n",
              "      <td>0</td>\n",
              "    </tr>\n",
              "    <tr>\n",
              "      <th>3</th>\n",
              "      <td>11.2</td>\n",
              "      <td>0.28</td>\n",
              "      <td>0.56</td>\n",
              "      <td>1.9</td>\n",
              "      <td>0.075</td>\n",
              "      <td>17.0</td>\n",
              "      <td>60.0</td>\n",
              "      <td>0.9980</td>\n",
              "      <td>3.16</td>\n",
              "      <td>0.58</td>\n",
              "      <td>9.8</td>\n",
              "      <td>6</td>\n",
              "      <td>0</td>\n",
              "    </tr>\n",
              "    <tr>\n",
              "      <th>4</th>\n",
              "      <td>7.4</td>\n",
              "      <td>0.70</td>\n",
              "      <td>0.00</td>\n",
              "      <td>1.9</td>\n",
              "      <td>0.076</td>\n",
              "      <td>11.0</td>\n",
              "      <td>34.0</td>\n",
              "      <td>0.9978</td>\n",
              "      <td>3.51</td>\n",
              "      <td>0.56</td>\n",
              "      <td>9.4</td>\n",
              "      <td>5</td>\n",
              "      <td>0</td>\n",
              "    </tr>\n",
              "  </tbody>\n",
              "</table>\n",
              "</div>"
            ],
            "text/plain": [
              "   fixed acidity  volatile acidity  citric acid  ...  alcohol  quality  tipo\n",
              "0            7.4              0.70         0.00  ...      9.4        5     0\n",
              "1            7.8              0.88         0.00  ...      9.8        5     0\n",
              "2            7.8              0.76         0.04  ...      9.8        5     0\n",
              "3           11.2              0.28         0.56  ...      9.8        6     0\n",
              "4            7.4              0.70         0.00  ...      9.4        5     0\n",
              "\n",
              "[5 rows x 13 columns]"
            ]
          },
          "metadata": {},
          "execution_count": 1
        }
      ]
    },
    {
      "cell_type": "markdown",
      "metadata": {
        "id": "bolTGKtW5lGG"
      },
      "source": [
        "# Exercício 2. Case: Wine Segmentation (opte por Kmeans ou a Clusterização Hieráquica)\n",
        "\n",
        "Você vai empregar aqui o mesmo conjunto de dados mas agora fará a segmentação (clusterização) dos vinhos no melhor número de clusters que você conseguir obter em um dos métodos, Kmeans ou Clusterização Hieráquica. **Não empregue nem o atributo `tipo` e nem o atributo `quality` para a clusterização!**\n",
        "\n",
        "1. Verifique o número de clusters ideal segundo quaisquer das técnicas estudadas (regra do cotovelo ou média de silhueta)\n",
        "2. Selecione com base nesses critérios a melhor clusterização\n",
        "3. Analise (caracterize) então os grupos formados observandos os valores médios de cada grupo e a presença maior ou menor de vinhos tintos e brancos em cada grupo (atributo que não participou da clusterização).\n",
        "\n",
        "Como no exercício anterior lembre-se de verificar a qualidade dos dados (valores ausentes por exemplo), a necessidade de normalizações e encodes, remoção de atributos etc. justificando, nos casos que julgar necessário, as tranformações que você optar por fazer.\n",
        "\n",
        "Ao final não esqueça de escrever um parágrafo com as suas conclusões."
      ]
    },
    {
      "cell_type": "markdown",
      "source": [
        "### Avaliação\n",
        "\n",
        "* (2,0) Seleção dos Clusters\n",
        "* (2,0) Conclusão e Análise dos Grupos"
      ],
      "metadata": {
        "id": "FT0yF0ciba7E"
      }
    }
  ]
}